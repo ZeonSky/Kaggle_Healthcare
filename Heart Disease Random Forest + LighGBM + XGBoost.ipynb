{
 "cells": [
  {
   "cell_type": "markdown",
   "metadata": {
    "_uuid": "574c0c1dedbe5fa4c7c7099691eb5ffc1d7298e1"
   },
   "source": [
    "## Heart Disease Diagnosis and Prediction"
   ]
  },
  {
   "cell_type": "markdown",
   "metadata": {
    "_uuid": "c726002afcf4d3c304eb92815275b8abcb711d9f"
   },
   "source": [
    "<img src=\"https://cdn-images-1.medium.com/max/1600/1*CQXQxHDKi0Q2IpdjhufEcw.jpeg\" style=\"height:300px;\" />"
   ]
  },
  {
   "cell_type": "markdown",
   "metadata": {
    "_uuid": "d2e939774ae39a7bbe5481f92460efca3516b576"
   },
   "source": [
    "### <b>Kernel goals </b>:\n",
    "#### data exploration and cleaning \n",
    "#### data modeling(Random Forest + LighGBM + XGBoost )\n",
    "#### feature importance \n",
    "#### investigation some correlation "
   ]
  },
  {
   "cell_type": "markdown",
   "metadata": {
    "_uuid": "d73a871fd5a646a287701f49b6673ef01a6ac009"
   },
   "source": [
    "### <b>Introduction </b>"
   ]
  },
  {
   "cell_type": "markdown",
   "metadata": {
    "_uuid": "9ba2ba3a8aeade7cf9c48402b5612af5f8dbbe3a"
   },
   "source": [
    "#### Dataset information "
   ]
  },
  {
   "cell_type": "markdown",
   "metadata": {
    "_uuid": "5f0e8daf2b20961b5784e2158374eed9c647c2bf"
   },
   "source": [
    "This database contains 76 attributes, but all published experiments refer to using a subset of 14 of them. In particular, the Cleveland database is the only one that has been used by ML researchers to this date. The \"goal\" field refers to the presence of heart disease in the patient. It is integer valued from 0 (no presence) to 4.\n"
   ]
  },
  {
   "cell_type": "markdown",
   "metadata": {
    "_uuid": "6f44d6b31d59e4dabe805cbacb905fae86b3fde9"
   },
   "source": [
    "#### Attribute Information: \n",
    "> 1. age \n",
    "> 2. sex \n",
    "> 3. chest pain type (4 values) \n",
    "> 4. resting blood pressure \n",
    "> 5. serum cholestoral in mg/dl \n",
    "> 6. fasting blood sugar > 120 mg/dl\n",
    "> 7. resting electrocardiographic results (values 0,1,2)\n",
    "> 8. maximum heart rate achieved \n",
    "> 9. exercise induced angina \n",
    "> 10. oldpeak = ST depression induced by exercise relative to rest \n",
    "> 11. the slope of the peak exercise ST segment \n",
    "> 12. number of major vessels (0-3) colored by flourosopy \n",
    "> 13. thal: 3 = normal; 6 = fixed defect; 7 = reversable defect"
   ]
  },
  {
   "cell_type": "markdown",
   "metadata": {
    "_uuid": "a22fb15006a80d64b258498ab115807b7eb99d49"
   },
   "source": [
    "### <b>Contents</b>\n",
    "\n",
    "1. [Data Cleaning](#dc)\n",
    "2. [Models](#md) <br>\n",
    "    2.1 [Random Forest](#md)<br>\n",
    "    2.2 [LightGBM](#lgm)<br>\n",
    "    2.3 [XGBoost](#xgb)\n",
    "3. [Top feature causing heart disease](#tf)\n",
    "4. [Feature correlation ](#fc)\n",
    "5. [Investigating strongly correlated features](#ic)"
   ]
  },
  {
   "cell_type": "code",
   "execution_count": null,
   "metadata": {
    "_uuid": "c6d94446f4f07d7492ba1a6258e57e7510d04674"
   },
   "outputs": [],
   "source": [
    "!pip install git+https://github.com/fastai/fastai@2e1ccb58121dc648751e2109fc0fbf6925aa8887 2>/dev/null 1>/dev/null"
   ]
  },
  {
   "cell_type": "code",
   "execution_count": null,
   "metadata": {
    "_uuid": "160bda5ce6c69841bd6891f8c9ed1714923c5ca1"
   },
   "outputs": [],
   "source": [
    "from fastai.imports import *\n",
    "from fastai.structured import *\n",
    "from pandas_summary import DataFrameSummary\n",
    "from sklearn.ensemble import RandomForestClassifier\n",
    "from IPython.display import display\n",
    "from sklearn import metrics\n",
    "from sklearn.model_selection import train_test_split\n",
    "import numpy as np \n",
    "import pandas as pd\n",
    "\n",
    "%load_ext autoreload\n",
    "%autoreload 2\n",
    "%matplotlib inline \n",
    "pd.options.mode.chained_assignment = None"
   ]
  },
  {
   "cell_type": "markdown",
   "metadata": {
    "_uuid": "02082ced1a458cdd87698ffc49fd238f5b7393f5"
   },
   "source": [
    "## Data Cleaning <a class=\"anchor\" id=\"dc\"></a>"
   ]
  },
  {
   "cell_type": "code",
   "execution_count": null,
   "metadata": {
    "_uuid": "8eb6c13967747733ce0c5205cebe60e7a6816d7c"
   },
   "outputs": [],
   "source": [
    "df = pd.read_csv(\"../input/heart.csv\")"
   ]
  },
  {
   "cell_type": "code",
   "execution_count": null,
   "metadata": {
    "_uuid": "1c9ab39f9911a2acfbc3bf6ac12d8bee6ea6024d"
   },
   "outputs": [],
   "source": [
    "## from this kernel: https://www.kaggle.com/tentotheminus9/what-causes-heart-disease-explaining-the-model\n",
    "\n",
    "df.columns = ['age', 'sex', 'chest_pain_type', 'resting_blood_pressure', 'cholesterol', 'fasting_blood_sugar', 'rest_ecg', 'max_heart_rate_achieved',\n",
    "       'exercise_induced_angina', 'st_depression', 'st_slope', 'num_major_vessels', 'thalassemia', 'target']\n",
    "\n",
    "df['sex'][df['sex'] == 0] = 'female'\n",
    "df['sex'][df['sex'] == 1] = 'male'\n",
    "\n",
    "df['chest_pain_type'][df['chest_pain_type'] == 1] = 'typical angina'\n",
    "df['chest_pain_type'][df['chest_pain_type'] == 2] = 'atypical angina'\n",
    "df['chest_pain_type'][df['chest_pain_type'] == 3] = 'non-anginal pain'\n",
    "df['chest_pain_type'][df['chest_pain_type'] == 4] = 'asymptomatic'\n",
    "\n",
    "df['fasting_blood_sugar'][df['fasting_blood_sugar'] == 0] = 'lower than 120mg/ml'\n",
    "df['fasting_blood_sugar'][df['fasting_blood_sugar'] == 1] = 'greater than 120mg/ml'\n",
    "\n",
    "df['rest_ecg'][df['rest_ecg'] == 0] = 'normal'\n",
    "df['rest_ecg'][df['rest_ecg'] == 1] = 'ST-T wave abnormality'\n",
    "df['rest_ecg'][df['rest_ecg'] == 2] = 'left ventricular hypertrophy'\n",
    "\n",
    "df['exercise_induced_angina'][df['exercise_induced_angina'] == 0] = 'no'\n",
    "df['exercise_induced_angina'][df['exercise_induced_angina'] == 1] = 'yes'\n",
    "\n",
    "df['st_slope'][df['st_slope'] == 1] = 'upsloping'\n",
    "df['st_slope'][df['st_slope'] == 2] = 'flat'\n",
    "df['st_slope'][df['st_slope'] == 3] = 'downsloping'\n",
    "\n",
    "df['thalassemia'][df['thalassemia'] == 1] = 'normal'\n",
    "df['thalassemia'][df['thalassemia'] == 2] = 'fixed defect'\n",
    "df['thalassemia'][df['thalassemia'] == 3] = 'reversable defect'"
   ]
  },
  {
   "cell_type": "code",
   "execution_count": null,
   "metadata": {
    "_uuid": "0745a54e05155b9c18fb21087b46018a955321c0"
   },
   "outputs": [],
   "source": [
    "df.head()"
   ]
  },
  {
   "cell_type": "code",
   "execution_count": null,
   "metadata": {
    "_uuid": "ee09c5359e0471b4b10eaede8cb9f8ea509012e0"
   },
   "outputs": [],
   "source": [
    "def missing_data_ratio(df):\n",
    "    all_data_na = (df.isnull().sum() / len(df)) * 100\n",
    "    all_data_na = all_data_na.drop(all_data_na[all_data_na == 0].index).sort_values(ascending=False)[:30]\n",
    "    missing_data = pd.DataFrame({'Missing Ratio' :all_data_na})\n",
    "    return missing_data"
   ]
  },
  {
   "cell_type": "code",
   "execution_count": null,
   "metadata": {
    "_uuid": "d716e77c7d248456d08dbf8ec3e2e9a38cb51e10"
   },
   "outputs": [],
   "source": [
    "import warnings\n",
    "\n",
    "with warnings.catch_warnings():\n",
    "    warnings.filterwarnings(\"ignore\", category=DeprecationWarning)\n",
    "    import imp"
   ]
  },
  {
   "cell_type": "code",
   "execution_count": null,
   "metadata": {
    "_kg_hide-output": true,
    "_uuid": "9c0542a6ba93c260dc4b36358ab21353c7a92104"
   },
   "outputs": [],
   "source": [
    "import pandas_profiling"
   ]
  },
  {
   "cell_type": "code",
   "execution_count": null,
   "metadata": {
    "_uuid": "f5dfa2db5d035ef6796fd074ffc6aaa14f0b8407"
   },
   "outputs": [],
   "source": [
    "profile = pandas_profiling.ProfileReport(df)"
   ]
  },
  {
   "cell_type": "markdown",
   "metadata": {
    "_uuid": "460236e7dba5a280d1ceb152f8d8cfda6ba3ed3a"
   },
   "source": [
    "#### <b>quick exploration with pandas profiling </b>"
   ]
  },
  {
   "cell_type": "code",
   "execution_count": null,
   "metadata": {
    "_uuid": "89ae88ceb343fb3db50dbe121ed5274266d17486"
   },
   "outputs": [],
   "source": [
    "missing_data_ratio(df)"
   ]
  },
  {
   "cell_type": "code",
   "execution_count": null,
   "metadata": {
    "_kg_hide-output": true,
    "_uuid": "7a5100476aff22a45cc3db9c27655b311a73a94a"
   },
   "outputs": [],
   "source": [
    "profile"
   ]
  },
  {
   "cell_type": "code",
   "execution_count": null,
   "metadata": {
    "_uuid": "62338e3d80d929328b7ac55a9c4053885146c8a9"
   },
   "outputs": [],
   "source": [
    "df.columns"
   ]
  },
  {
   "cell_type": "code",
   "execution_count": null,
   "metadata": {
    "_uuid": "4a97b3b56cfa0e92e997a6535ff6f0087e583606"
   },
   "outputs": [],
   "source": [
    "df.chest_pain_type = df.chest_pain_type.astype(\"category\")\n",
    "df.exercise_induced_angina = df.exercise_induced_angina.astype(\"category\")\n",
    "df.fasting_blood_sugar = df.fasting_blood_sugar.astype(\"category\")\n",
    "df.rest_ecg = df.rest_ecg.astype(\"category\")\n",
    "df.sex = df.sex.astype(\"category\")\n",
    "df.st_slope = df.st_slope.astype(\"category\")\n",
    "df.thalassemia = df.thalassemia.astype(\"category\")"
   ]
  },
  {
   "cell_type": "code",
   "execution_count": null,
   "metadata": {
    "_uuid": "885cae68356ab62ab4ce0bd8e4d2ef896a9969ef"
   },
   "outputs": [],
   "source": [
    "df = pd.get_dummies(df, drop_first=True)"
   ]
  },
  {
   "cell_type": "code",
   "execution_count": null,
   "metadata": {
    "_uuid": "ca9d3170344f14da523db2b4cfedf676fdb1ea69"
   },
   "outputs": [],
   "source": [
    "df_p,y,_=proc_df(df,\"target\")"
   ]
  },
  {
   "cell_type": "code",
   "execution_count": null,
   "metadata": {
    "_uuid": "ef0428b6f121de447a26e773cc2e5513e2f2ec45"
   },
   "outputs": [],
   "source": [
    "df_p.head()"
   ]
  },
  {
   "cell_type": "markdown",
   "metadata": {
    "_uuid": "9db7a21c192c545fb567e068b10b2d49cc8e80cf"
   },
   "source": [
    "## Models <a class=\"anchor\" id=\"md\"></a>"
   ]
  },
  {
   "cell_type": "markdown",
   "metadata": {
    "_uuid": "5c23a2b046d9a90415930ae87df05fd10edde528"
   },
   "source": [
    "#### <b>Random Forest</b>  <a class=\"anchor\" id=\"rd\"></a>"
   ]
  },
  {
   "cell_type": "code",
   "execution_count": null,
   "metadata": {
    "_uuid": "9db94ffb265d258f73218aed44d7ecd50e7a88d6"
   },
   "outputs": [],
   "source": [
    "from sklearn.model_selection import RandomizedSearchCV"
   ]
  },
  {
   "cell_type": "code",
   "execution_count": null,
   "metadata": {
    "_uuid": "ff3a355b09236a297ea48f6aed4f2cba71bb354a"
   },
   "outputs": [],
   "source": [
    "rf_param_grid = {\n",
    "                 'max_depth' : [4, 6, 8,10],\n",
    "                 'n_estimators': range(1,30),\n",
    "                 'max_features': ['sqrt', 'auto', 'log2'],\n",
    "                 'min_samples_split': [2, 3, 10,20],\n",
    "                 'min_samples_leaf': [1, 3, 10,18],\n",
    "                 'bootstrap': [True, False],\n",
    "                 \n",
    "                 }"
   ]
  },
  {
   "cell_type": "code",
   "execution_count": null,
   "metadata": {
    "_uuid": "e6a0f3db2d955d64fc5a492569b2539dcc5455f6"
   },
   "outputs": [],
   "source": [
    "m = RandomForestClassifier()"
   ]
  },
  {
   "cell_type": "code",
   "execution_count": null,
   "metadata": {
    "_uuid": "bcec78a58031da3b50ec9ff9ef9039c1228c96bf"
   },
   "outputs": [],
   "source": [
    "m_r = RandomizedSearchCV(param_distributions=rf_param_grid, \n",
    "                                    estimator = m, scoring = \"accuracy\", \n",
    "                                    verbose = 0, n_iter = 100, cv = 5)"
   ]
  },
  {
   "cell_type": "code",
   "execution_count": null,
   "metadata": {
    "_uuid": "05ee3387ee6d4bca9f5560b30cfc3946d6fa88a1"
   },
   "outputs": [],
   "source": [
    "%time m_r.fit(df_p, y)"
   ]
  },
  {
   "cell_type": "code",
   "execution_count": null,
   "metadata": {
    "_uuid": "eb358b8dec5cfe2f3c54c628139b71f70e1e27f9"
   },
   "outputs": [],
   "source": [
    "m_r.best_score_"
   ]
  },
  {
   "cell_type": "code",
   "execution_count": null,
   "metadata": {
    "_uuid": "05ca7e359d47f27b84e07d6c0be9aa18f8819106"
   },
   "outputs": [],
   "source": [
    "m_r.best_params_"
   ]
  },
  {
   "cell_type": "code",
   "execution_count": null,
   "metadata": {
    "_uuid": "aeb6baa76a0fbf3263d2a9e805866f47cb8a7de5"
   },
   "outputs": [],
   "source": [
    "rf_bp = m_r.best_params_"
   ]
  },
  {
   "cell_type": "code",
   "execution_count": null,
   "metadata": {
    "_uuid": "8aaa590dd50154d94f9212fed34baedc6da47bc0"
   },
   "outputs": [],
   "source": [
    "rf_classifier=RandomForestClassifier(n_estimators=rf_bp[\"n_estimators\"],\n",
    "                                     min_samples_split=rf_bp['min_samples_split'],\n",
    "                                     min_samples_leaf=rf_bp['min_samples_leaf'],\n",
    "                                     max_features=rf_bp['max_features'],\n",
    "                                     max_depth=rf_bp['max_depth'],\n",
    "                                     bootstrap=rf_bp['bootstrap'])"
   ]
  },
  {
   "cell_type": "code",
   "execution_count": null,
   "metadata": {
    "_uuid": "524dfd3b583b0398fd4c7b6fe16cb114b784e2e9"
   },
   "outputs": [],
   "source": [
    "rf_classifier.fit(df_p,y)"
   ]
  },
  {
   "cell_type": "code",
   "execution_count": null,
   "metadata": {
    "_uuid": "22ed26cc16d375ffed1e1165229dbb127780d2a1"
   },
   "outputs": [],
   "source": [
    "fi = rf_feat_importance(rf_classifier,df_p)"
   ]
  },
  {
   "cell_type": "code",
   "execution_count": null,
   "metadata": {
    "_uuid": "d03e6835ad5fc6e3307befca6ecf97fd9d3b1632"
   },
   "outputs": [],
   "source": [
    "def plot_fi(fi):\n",
    "    return fi.plot('cols', 'imp', 'barh', figsize=(12,7), legend=False)"
   ]
  },
  {
   "cell_type": "markdown",
   "metadata": {
    "_uuid": "54cee2d16118dd3b98edd57d07bd7b03a854e651"
   },
   "source": [
    "#### <b>Random Forest Feature importance</b> "
   ]
  },
  {
   "cell_type": "code",
   "execution_count": null,
   "metadata": {
    "_uuid": "ca5775c78f7172a127dec97626bb5170066502a1"
   },
   "outputs": [],
   "source": [
    "plot_fi(fi)"
   ]
  },
  {
   "cell_type": "markdown",
   "metadata": {
    "_uuid": "f78bd754d851cdd1ccf8438e722726dd156d12ad"
   },
   "source": [
    "#### <b>LightGBM</b>  <a class=\"anchor\" id=\"lgm\"></a>"
   ]
  },
  {
   "cell_type": "code",
   "execution_count": null,
   "metadata": {
    "_uuid": "ae185604571529509de934f681cd3ca14739c322"
   },
   "outputs": [],
   "source": [
    "import lightgbm as lgbm"
   ]
  },
  {
   "cell_type": "code",
   "execution_count": null,
   "metadata": {
    "_uuid": "b5330e8be64f4e7a2fbfa54f5b1cdf24808ce469"
   },
   "outputs": [],
   "source": [
    "lgbm_model = lgbm.LGBMClassifier()"
   ]
  },
  {
   "cell_type": "code",
   "execution_count": null,
   "metadata": {
    "_uuid": "30e82f858565f9211486967f77476c56732e34f3"
   },
   "outputs": [],
   "source": [
    "lgbm_params = {\n",
    "    \"n_estimators\":[10,100,1000,2000],\n",
    "    'boosting_type': ['dart','gbdt'],          \n",
    "    'learning_rate': [0.05,0.1,0.2],       \n",
    "    'min_split_gain': [0.0,0.1,0.5,0.7],     \n",
    "    'min_child_weight': [0.001,0.003,0.01],     \n",
    "    'num_leaves': [10,21,41,61],            \n",
    "    'min_child_samples': [10,20,30,60,100]\n",
    "              }"
   ]
  },
  {
   "cell_type": "code",
   "execution_count": null,
   "metadata": {
    "_uuid": "9ee280abff934ea253300b5518cdbb02701d8022"
   },
   "outputs": [],
   "source": [
    "lgbm_model = lgbm.LGBMClassifier()"
   ]
  },
  {
   "cell_type": "code",
   "execution_count": null,
   "metadata": {
    "_uuid": "70c94d51b317cf2f2e313b36d07d5552d3c5c87a"
   },
   "outputs": [],
   "source": [
    "lgbm_c = RandomizedSearchCV(param_distributions=lgbm_params, \n",
    "                                    estimator = lgbm_model, scoring = \"accuracy\", \n",
    "                                    verbose = 0, n_iter = 100, cv = 4)"
   ]
  },
  {
   "cell_type": "code",
   "execution_count": null,
   "metadata": {
    "_uuid": "9e841b206d05e591df2dea6e526f9c353dd72c47"
   },
   "outputs": [],
   "source": [
    "lgbm_c.fit(df_p,y)"
   ]
  },
  {
   "cell_type": "code",
   "execution_count": null,
   "metadata": {
    "_uuid": "8ef2de5634af060812437cab27e0b8924c0f83db"
   },
   "outputs": [],
   "source": [
    "lgbm_bp =lgbm_c.best_params_"
   ]
  },
  {
   "cell_type": "code",
   "execution_count": null,
   "metadata": {
    "_uuid": "20568eaf2c2daee0b3d8cebf265b3cfafcf222e9"
   },
   "outputs": [],
   "source": [
    "lgbm_model = lgbm.LGBMClassifier(num_leaves=lgbm_bp[\"num_leaves\"],\n",
    "                                 n_estimators=lgbm_bp[\"n_estimators\"],\n",
    "                                 min_split_gain=lgbm_bp[\"min_split_gain\"],\n",
    "                                 min_child_weight=lgbm_bp[\"min_child_weight\"],\n",
    "                                 min_child_samples=lgbm_bp[\"min_child_samples\"],\n",
    "                                 learning_rate=lgbm_bp[\"learning_rate\"],\n",
    "                                 boosting_type=lgbm_bp[\"boosting_type\"])"
   ]
  },
  {
   "cell_type": "code",
   "execution_count": null,
   "metadata": {
    "_uuid": "684d8dbb32f82b1ef9918fafebe93c7b8f80052a"
   },
   "outputs": [],
   "source": [
    "lgbm_model.fit(df_p,y)"
   ]
  },
  {
   "cell_type": "markdown",
   "metadata": {
    "_uuid": "e3a32f978a1521672b13ecdc13396f46bc7e9b4a"
   },
   "source": [
    "#### <b>LightGBM Feature importance </b>"
   ]
  },
  {
   "cell_type": "code",
   "execution_count": null,
   "metadata": {
    "_uuid": "f1cce3f972e32d004703799ed2f4d21e647b40ae"
   },
   "outputs": [],
   "source": [
    "def feature_imp(df,model):\n",
    "    fi = pd.DataFrame()\n",
    "    fi[\"feature\"] = df.columns\n",
    "    fi[\"importance\"] = model.feature_importances_\n",
    "    return fi.sort_values(by=\"importance\", ascending=False)"
   ]
  },
  {
   "cell_type": "code",
   "execution_count": null,
   "metadata": {
    "_uuid": "706c397a036423a004d862b7f071a9d1470abb27"
   },
   "outputs": [],
   "source": [
    "feature_imp(df_p,lgbm_model).plot('feature', 'importance', 'barh', figsize=(12,7), legend=False)"
   ]
  },
  {
   "cell_type": "markdown",
   "metadata": {
    "_uuid": "d5f548bc9ca0ff0d6935039538cb238e6b02cebc"
   },
   "source": [
    "#### <b>Xgboost</b>  <a class=\"anchor\" id=\"xgb\"></a>"
   ]
  },
  {
   "cell_type": "code",
   "execution_count": null,
   "metadata": {
    "_uuid": "3a1a13a40558283c081326c5c51a8a44adce973c"
   },
   "outputs": [],
   "source": [
    "import xgboost as xgb"
   ]
  },
  {
   "cell_type": "code",
   "execution_count": null,
   "metadata": {
    "_uuid": "f84f746d040e44129966561d00a751eb6be118cf"
   },
   "outputs": [],
   "source": [
    "xgb_classifier = xgb.XGBClassifier()"
   ]
  },
  {
   "cell_type": "code",
   "execution_count": null,
   "metadata": {
    "_uuid": "d6faeee4b2b3a0671ac22f5af7cd44d006058e95"
   },
   "outputs": [],
   "source": [
    "gbm_param_grid = {\n",
    "    'n_estimators': range(1,20),\n",
    "    'max_depth': range(1, 10),\n",
    "    'learning_rate': [.1,.4, .45, .5, .55, .6],\n",
    "    'colsample_bytree': [.6, .7, .8, .9, 1],\n",
    "    'booster':[\"gbtree\"],\n",
    "     'min_child_weight': [0.001,0.003,0.01],\n",
    "}"
   ]
  },
  {
   "cell_type": "code",
   "execution_count": null,
   "metadata": {
    "_uuid": "587ccd61a7c8f44cd63108e26521637b885fa3e7"
   },
   "outputs": [],
   "source": [
    "xgb_random = RandomizedSearchCV(param_distributions=gbm_param_grid, \n",
    "                                    estimator = xgb_classifier, scoring = \"accuracy\", \n",
    "                                    verbose = 0, n_iter = 100, cv = 4)"
   ]
  },
  {
   "cell_type": "code",
   "execution_count": null,
   "metadata": {
    "_uuid": "13bd48c740ccd87c5bbcdb2226b02fca20f55062"
   },
   "outputs": [],
   "source": [
    "xgb_random.fit(df_p,y)"
   ]
  },
  {
   "cell_type": "code",
   "execution_count": null,
   "metadata": {
    "_uuid": "f139417962b1d8bad934202a0f48d5a38ee194e5"
   },
   "outputs": [],
   "source": [
    "xgb_bp = xgb_random.best_params_"
   ]
  },
  {
   "cell_type": "code",
   "execution_count": null,
   "metadata": {
    "_uuid": "510bf4e0e6facde3fbcb3dc418ae6463bdc7e53e"
   },
   "outputs": [],
   "source": [
    "xgb_model=xgb.XGBClassifier(n_estimators=xgb_bp[\"n_estimators\"],\n",
    "                            min_child_weight=xgb_bp[\"min_child_weight\"],\n",
    "                            max_depth=xgb_bp[\"max_depth\"],\n",
    "                            learning_rate=xgb_bp[\"learning_rate\"],\n",
    "                            colsample_bytree=xgb_bp[\"colsample_bytree\"],\n",
    "                            booster=xgb_bp[\"booster\"])"
   ]
  },
  {
   "cell_type": "code",
   "execution_count": null,
   "metadata": {
    "_uuid": "678070a21a6295841aaf7b0d958a647b7d71ff18"
   },
   "outputs": [],
   "source": [
    "xgb_model.fit(df_p,y)"
   ]
  },
  {
   "cell_type": "markdown",
   "metadata": {
    "_uuid": "c4fdacbbb8011188d42401fbd1e1f934a9d13154"
   },
   "source": [
    "#### <b>XGboost Feature importance </b>"
   ]
  },
  {
   "cell_type": "code",
   "execution_count": null,
   "metadata": {
    "_uuid": "09990bbe7599a71d251c2adb6262130d66cac427"
   },
   "outputs": [],
   "source": [
    "feature_imp(df_p,xgb_model).plot('feature', 'importance', 'barh', figsize=(12,7), legend=False)"
   ]
  },
  {
   "cell_type": "code",
   "execution_count": null,
   "metadata": {
    "_uuid": "16aeb87986ac88ad9956dacfce84d84d7c388acc"
   },
   "outputs": [],
   "source": [
    "from IPython.core.display import HTML\n",
    "\n",
    "def multi_table(table_list):\n",
    "    ''' Acceps a list of IpyTable objects and returns a table which contains each IpyTable in a cell\n",
    "    '''\n",
    "    return HTML(\n",
    "        '<table><tr style=\"background-color:white;\">' + \n",
    "        ''.join(['<td>' + table._repr_html_() + '</td>' for table in table_list]) +\n",
    "        '</tr></table>'\n",
    "    )"
   ]
  },
  {
   "cell_type": "code",
   "execution_count": null,
   "metadata": {
    "_uuid": "02d4ef19522f51009651c939a2e7dc58518fcbe1"
   },
   "outputs": [],
   "source": [
    "rf_fm = rf_feat_importance(rf_classifier,df_p)\n",
    "lgbm_fm = feature_imp(df_p,lgbm_model)\n",
    "xgb_fm = feature_imp(df_p,xgb_model)"
   ]
  },
  {
   "cell_type": "markdown",
   "metadata": {
    "_uuid": "8393f56f2b13f6427fc9ea44cbe5b94b01941844"
   },
   "source": [
    "### Top feature causing heart disease according to RF,LGBM,XGB <a class=\"anchor\" id=\"tf\"></a>"
   ]
  },
  {
   "cell_type": "code",
   "execution_count": null,
   "metadata": {
    "_uuid": "05c8d8b7db65cffbc569a504e547e6d37d992451"
   },
   "outputs": [],
   "source": [
    "multi_table([rf_fm,lgbm_fm,xgb_fm])"
   ]
  },
  {
   "cell_type": "markdown",
   "metadata": {
    "_uuid": "9ff3643f859206bd19b319f6be3df275a5d1fd21"
   },
   "source": [
    "## feature correlation <a class=\"anchor\" id=\"fc\"></a>"
   ]
  },
  {
   "cell_type": "code",
   "execution_count": null,
   "metadata": {
    "_uuid": "86176a5c1d532e3ca9873c2dedd9e689321f00a0"
   },
   "outputs": [],
   "source": [
    "import seaborn as sns\n",
    "corr = df_p.corr()\n",
    "mask = np.zeros_like(corr, dtype=np.bool)\n",
    "mask[np.triu_indices_from(mask)] = True\n",
    "f, ax = plt.subplots(figsize=(11, 9))\n",
    "\n",
    "sns.heatmap(corr, \n",
    "            xticklabels=corr.columns.values,\n",
    "            yticklabels=corr.columns.values,mask=mask,cmap='summer_r',vmax=.3, center=0,\n",
    "            square=True, linewidths=.5, cbar_kws={\"shrink\": .5})"
   ]
  },
  {
   "cell_type": "code",
   "execution_count": null,
   "metadata": {
    "_uuid": "9ff4f04f49d8595f8f8b2da5ad12c616b74dc0da"
   },
   "outputs": [],
   "source": [
    "from scipy.cluster import hierarchy as hc"
   ]
  },
  {
   "cell_type": "code",
   "execution_count": null,
   "metadata": {
    "_uuid": "3dd94280dce9413162e808857fbb0d3f99579fc5"
   },
   "outputs": [],
   "source": [
    "def hierarchy_tree(df):\n",
    "    corr = np.round(scipy.stats.spearmanr(df).correlation, 4)\n",
    "    corr_condensed = hc.distance.squareform(1-df.corr())\n",
    "    z = hc.linkage(corr_condensed, method='average')\n",
    "    fig = plt.figure(figsize=(16,10))\n",
    "    dendrogram = hc.dendrogram(z, labels=df.columns, orientation='left', leaf_font_size=16)\n",
    "    plt.show()"
   ]
  },
  {
   "cell_type": "code",
   "execution_count": null,
   "metadata": {
    "_uuid": "2ba551e8211bbcc2593589a99735d01eb508fe9c"
   },
   "outputs": [],
   "source": [
    "hierarchy_tree(df_p)"
   ]
  },
  {
   "cell_type": "markdown",
   "metadata": {
    "_uuid": "27c89503a2ab53f44ef708eac9a76d85c17c4586"
   },
   "source": [
    "##  Investigating strongly correlated features <a class=\"anchor\" id=\"ic\"></a>"
   ]
  },
  {
   "cell_type": "markdown",
   "metadata": {
    "_uuid": "fe32a1cb88f3425ce66b50a372ebc2acd121122e"
   },
   "source": [
    "### crosstabing correlated features"
   ]
  },
  {
   "cell_type": "code",
   "execution_count": null,
   "metadata": {
    "_uuid": "4bc30ea0cae16dfce38de4bfd20951432089032d"
   },
   "outputs": [],
   "source": [
    "df_p[\"target\"] = y  "
   ]
  },
  {
   "cell_type": "code",
   "execution_count": null,
   "metadata": {
    "_uuid": "ea015da6656ccad44ce24660ed90722bd654512d"
   },
   "outputs": [],
   "source": [
    "df_p.columns"
   ]
  },
  {
   "cell_type": "code",
   "execution_count": null,
   "metadata": {
    "_uuid": "47b5a1c8fc930a51a3668832a4a1e38ad183955f"
   },
   "outputs": [],
   "source": [
    "max_heart_rate_achieved = pd.cut(df_p.max_heart_rate_achieved,4,labels=[\"71-104\",\"105-137\",\"138-170\",\"171-202\"])"
   ]
  },
  {
   "cell_type": "code",
   "execution_count": null,
   "metadata": {
    "_uuid": "7ccafef3f74e64d990c3974072226a5f1a1ead42"
   },
   "outputs": [],
   "source": [
    "df_p.columns"
   ]
  },
  {
   "cell_type": "code",
   "execution_count": null,
   "metadata": {
    "_uuid": "e9b78f0ff3452cc8f23de1544e821f99b2465069"
   },
   "outputs": [],
   "source": [
    "cross1=pd.crosstab([df_p.st_slope_flat[df_p.st_slope_flat==1],df_p.target],max_heart_rate_achieved).style.background_gradient(cmap='summer_r')\n",
    "cross1"
   ]
  },
  {
   "cell_type": "code",
   "execution_count": null,
   "metadata": {
    "_uuid": "59bd25278019b0628305128dfcbbadbe77f108ae"
   },
   "outputs": [],
   "source": [
    "cross1=pd.crosstab([df_p.st_slope_flat[df_p.st_slope_flat==1],df_p[\"thalassemia_fixed defect\"][df_p[\"thalassemia_fixed defect\"]==1],\n",
    "                    df_p.target],max_heart_rate_achieved).style.background_gradient(cmap='summer_r')\n",
    "cross1"
   ]
  },
  {
   "cell_type": "code",
   "execution_count": null,
   "metadata": {
    "_uuid": "c825dabc6437a901edb2e38084c3b0eaea47cab7"
   },
   "outputs": [],
   "source": [
    "cross1=pd.crosstab([df_p.st_slope_flat[df_p.st_slope_flat==1],df_p[\"thalassemia_fixed defect\"][df_p[\"thalassemia_fixed defect\"]==1],df_p[\"chest_pain_type_typical angina\"][df_p[\"chest_pain_type_typical angina\"]==1],\n",
    "                    df_p.target],max_heart_rate_achieved).style.background_gradient(cmap='summer_r')\n",
    "cross1"
   ]
  },
  {
   "cell_type": "markdown",
   "metadata": {
    "_uuid": "3c69031740609d27967173a18b3dabdd2c05a47a"
   },
   "source": [
    "###### according to this data 93% of poeple that have st_slope_flat + thalassemia_fixed_defect + chest_pain_typical_argina have heart disease "
   ]
  },
  {
   "cell_type": "code",
   "execution_count": null,
   "metadata": {
    "_uuid": "bdc70f6913d1f7a7b638fc4f6a6010fd8fde6c6a"
   },
   "outputs": [],
   "source": [
    "cross1=pd.crosstab([df_p[\"thalassemia_fixed defect\"]],df_p.sex_male,margins=True).style.background_gradient(cmap='summer_r')\n",
    "cross1"
   ]
  },
  {
   "cell_type": "code",
   "execution_count": null,
   "metadata": {
    "_uuid": "00f995aac1c3c6f53c8047b89ef3317016a8abde"
   },
   "outputs": [],
   "source": [
    "cross1=pd.crosstab([df_p[\"thalassemia_fixed defect\"][df_p[\"thalassemia_fixed defect\"]==1],df_p.target],df_p.sex_male).style.background_gradient(cmap='summer_r')\n",
    "cross1"
   ]
  },
  {
   "cell_type": "code",
   "execution_count": null,
   "metadata": {
    "_uuid": "3e4335d53470df8560d65cd93b7280ae4e22a5ea"
   },
   "outputs": [],
   "source": [
    "cross1=pd.crosstab([df_p.exercise_induced_angina_yes[df_p.exercise_induced_angina_yes==1],df_p.target],[df_p.st_slope_upsloping[df_p.st_slope_upsloping==1],df_p.st_depression]).style.background_gradient(cmap='summer_r')\n",
    "cross1"
   ]
  },
  {
   "cell_type": "code",
   "execution_count": null,
   "metadata": {
    "_uuid": "134b319375541e2c6f377381d5d9cc74a67e02e1"
   },
   "outputs": [],
   "source": [
    "age = pd.cut(df_p.age,6,labels=[\"(28.952, 37.0)\", \"(37.0, 45.0)\", \"(45.0, 53.0)\",\"(53.0, 61.0)\",\"(61.0, 69.0)\", \"(69.0, 77.0)\"])"
   ]
  },
  {
   "cell_type": "code",
   "execution_count": null,
   "metadata": {
    "_uuid": "9b3450d8fd6f504f2f2d2ff6a13583f23897e44f"
   },
   "outputs": [],
   "source": [
    "cross1=pd.crosstab([pd.cut(df_p.resting_blood_pressure,3),df_p.target],[age]).style.background_gradient(cmap='summer_r')\n",
    "cross1"
   ]
  },
  {
   "cell_type": "markdown",
   "metadata": {
    "_uuid": "d87c52fec9b9f1e5910ba3856efa759bcdef9a7a"
   },
   "source": [
    "#### <b> resting_blood_pressure is strong factory but only in early age </b>"
   ]
  },
  {
   "cell_type": "code",
   "execution_count": null,
   "metadata": {
    "_uuid": "bbb35dc71f73edb23a65e64d4b36d7a3ee997828"
   },
   "outputs": [],
   "source": []
  },
  {
   "cell_type": "code",
   "execution_count": null,
   "metadata": {
    "_uuid": "80aa6511753b23bf71de510416ec3a7bbbed8ce5"
   },
   "outputs": [],
   "source": []
  },
  {
   "cell_type": "markdown",
   "metadata": {
    "_uuid": "8688e5f254e43930b2fcd89f5243e67aabef4944"
   },
   "source": []
  },
  {
   "cell_type": "markdown",
   "metadata": {
    "_uuid": "06f3c20880b3f52f9d3c3b31621e2597fab998df"
   },
   "source": []
  }
 ],
 "metadata": {
  "kernelspec": {
   "display_name": "Python 3",
   "language": "python",
   "name": "python3"
  },
  "language_info": {
   "codemirror_mode": {
    "name": "ipython",
    "version": 3
   },
   "file_extension": ".py",
   "mimetype": "text/x-python",
   "name": "python",
   "nbconvert_exporter": "python",
   "pygments_lexer": "ipython3",
   "version": "3.7.3"
  }
 },
 "nbformat": 4,
 "nbformat_minor": 1
}
